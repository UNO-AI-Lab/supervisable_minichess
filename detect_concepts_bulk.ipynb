{
 "cells": [
  {
   "cell_type": "code",
   "execution_count": null,
   "metadata": {},
   "outputs": [],
   "source": [
    "%load_ext autoreload\n",
    "%autoreload 2"
   ]
  },
  {
   "cell_type": "code",
   "execution_count": null,
   "metadata": {},
   "outputs": [],
   "source": [
    "import numpy as np\n",
    "from minichess.concepts.concepts import in_check, random, threat_opp_queen, material_advantage, has_mate_threat, opponent_has_mate_threat, has_contested_open_file\n",
    "\n",
    "np.seterr(over=\"ignore\", invalid=\"raise\")\n",
    "\n",
    "# Your agent's name here\n",
    "model_name = \"test_agent\"\n",
    "# The epochs you want to sample from\n",
    "agents_to_sample = [0, 3, 5, 10, 20, 30, 40, 50, 70, 90, 100]\n",
    "# The name of the board-variant here\n",
    "full_name = \"5x4silverman\"\n",
    "dims = (5, 4)\n",
    "\n",
    "# This can be replaced by some other concept function\n",
    "CONCEPT_FUNC = threat_opp_queen\n",
    "\n",
    "concept_name = has_contested_open_file.__name__"
   ]
  },
  {
   "cell_type": "code",
   "execution_count": null,
   "metadata": {},
   "outputs": [],
   "source": [
    "import tensorflow as tf\n",
    "from minichess.agents.lite_model import LiteModel\n",
    "from minichess.agents.predictor_convnet import PredictorConvNet\n",
    "\n",
    "def load_model(full_name, model_name, epoch):\n",
    "    keras_model = tf.keras.models.load_model(\"minichess/agents/checkpoints/{}/{}/{}\".format(full_name, model_name, epoch))\n",
    "    simple_model = PredictorConvNet(LiteModel.from_keras_model(keras_model))\n",
    "    del keras_model\n",
    "    return simple_model\n",
    "\n",
    "agents = [load_model(full_name, model_name, epoch) for epoch in agents_to_sample]"
   ]
  },
  {
   "cell_type": "code",
   "execution_count": null,
   "metadata": {},
   "outputs": [],
   "source": [
    "from minichess.agents.lite_model import LiteModel\n",
    "from minichess.agents.predictor_convnet import PredictorConvNet\n",
    "from minichess.chess.fastchess import Chess\n",
    "from minichess.chess.fastchess_utils import piece_matrix_to_legal_moves, visualize_board\n",
    "from minichess.chess.move_utils import calculate_all_moves, index_to_move, move_to_index\n",
    "from minichess.rl.chess_helpers import get_initial_chess_object\n",
    "import numpy as np\n",
    "\n",
    "import tensorflow as tf\n",
    "def play_match(agents, full_name, dims, move_cap, all_moves, all_moves_inv, concept_function):\n",
    "    chess = get_initial_chess_object(full_name)\n",
    "    to_start = 1 if np.random.random() > 0.5 else 0\n",
    "    current = to_start\n",
    "    positive_cases = []\n",
    "    negative_cases = []\n",
    "    SAMPLING_RATIO = 0.2\n",
    "\n",
    "    while chess.game_result() is None:\n",
    "        if np.random.random() < SAMPLING_RATIO:\n",
    "            if concept_function(chess):\n",
    "                positive_cases.append(chess.agent_board_state())\n",
    "            else:\n",
    "                negative_cases.append(chess.agent_board_state())\n",
    "\n",
    "\n",
    "        agent_to_play = agents[current]\n",
    "        dist, value = agent_to_play.predict(chess.agent_board_state())\n",
    "\n",
    "        moves, proms = chess.legal_moves()\n",
    "        legal_moves = piece_matrix_to_legal_moves(moves, proms)\n",
    "        legal_moves_mask = np.zeros((dims[0], dims[1], all_moves_inv.shape[0]))\n",
    "        for move in legal_moves:\n",
    "            (i, j), (dx, dy), promotion = move\n",
    "            ind = move_to_index(all_moves, dx, dy, promotion, chess.turn)\n",
    "            legal_moves_mask[i, j, ind] = 1\n",
    "\n",
    "        move_dims = dist.shape\n",
    "\n",
    "        dist = (dist + 0.5 * np.random.uniform(size=dist.shape)) * legal_moves_mask.flatten()\n",
    "\n",
    "        dist /= dist.sum()\n",
    "        move_to_play = np.argmax(dist)\n",
    "\n",
    "        # move_to_play = np.random.choice(np.arange(dist.shape[0]), p=dist)\n",
    "        i, j, ind = np.unravel_index(move_to_play, (dims[0], dims[1], move_cap))\n",
    "        dx, dy, promotion = index_to_move(all_moves_inv, ind, chess.turn)\n",
    "        chess.make_move(i, j, dx, dy, promotion)\n",
    "        current = (current + 1) % 2\n",
    "    return positive_cases, negative_cases"
   ]
  },
  {
   "cell_type": "code",
   "execution_count": null,
   "metadata": {},
   "outputs": [],
   "source": [
    "all_moves, all_moves_inv = calculate_all_moves(dims)\n",
    "move_cap = all_moves_inv.shape[0]"
   ]
  },
  {
   "cell_type": "code",
   "execution_count": null,
   "metadata": {},
   "outputs": [],
   "source": [
    "from tqdm import tqdm\n",
    "positive_cases = []\n",
    "negative_cases = []\n",
    "\n",
    "CASES_TO_COLLECT = 25000\n",
    "pbar = tqdm(total=CASES_TO_COLLECT)\n",
    "while len(positive_cases) < CASES_TO_COLLECT:\n",
    "    pos, neg = play_match([agents[0], agents[2]], full_name, dims, move_cap, all_moves, all_moves_inv, CONCEPT_FUNC)\n",
    "    positive_cases.extend(pos)\n",
    "    negative_cases.extend(neg)\n",
    "    pbar.update(len(pos))\n",
    "\n",
    "positive_cases = positive_cases[:CASES_TO_COLLECT]\n",
    "negative_cases = negative_cases[:CASES_TO_COLLECT]"
   ]
  },
  {
   "cell_type": "code",
   "execution_count": null,
   "metadata": {},
   "outputs": [],
   "source": [
    "positive_cases = np.array(positive_cases)\n",
    "negative_cases = np.array(negative_cases)"
   ]
  },
  {
   "cell_type": "code",
   "execution_count": null,
   "metadata": {},
   "outputs": [],
   "source": [
    "positive_cases.shape[0]"
   ]
  },
  {
   "cell_type": "code",
   "execution_count": null,
   "metadata": {},
   "outputs": [],
   "source": [
    "negative_cases.shape[0]"
   ]
  },
  {
   "cell_type": "code",
   "execution_count": null,
   "metadata": {},
   "outputs": [],
   "source": [
    "epochs_to_look_at = [1, 10, 20, 30, 40, 100, 150, 200]"
   ]
  },
  {
   "cell_type": "code",
   "execution_count": null,
   "metadata": {},
   "outputs": [],
   "source": [
    "from minichess.agents.convnet import ConvNet\n",
    "\n",
    "for epoch_to_look_at in epochs_to_look_at:\n",
    "    import tensorflow.keras as keras\n",
    "    predictor_model = ConvNet(None, None, init=False)\n",
    "    predictor_model.model = keras.models.load_model(\"minichess/agents/checkpoints/{}/{}/{}\".format(full_name, model_name, epoch_to_look_at))\n",
    "    all_cases = np.concatenate([positive_cases, negative_cases])\n",
    "    all_labels = [1] * positive_cases.shape[0] + [0] * negative_cases.shape[0]\n",
    "    all_labels = np.array(all_labels)\n",
    "    shuffled_indices = np.arange(all_labels.shape[0])\n",
    "    np.random.shuffle(shuffled_indices)\n",
    "    all_cases = all_cases[shuffled_indices]\n",
    "    all_labels = all_labels[shuffled_indices]\n",
    "    POSITIONS_TO_CONSIDER = 40000\n",
    "    VALIDATION_POSITIONS = 10000\n",
    "    from minichess.concepts.linear_regression import perform_linear_regression, perform_logistic_regression, perform_regression\n",
    "\n",
    "    concept_presences = {}\n",
    "\n",
    "\n",
    "    print(\"Getting outputs...\")\n",
    "    outputs = predictor_model.get_all_resblock_outputs(all_cases)\n",
    "    # actual_outputs = predictor_model.predict(boards, id_vector_to_use)\n",
    "    # Outputs blir returnert i batcher, må flette det sammen\n",
    "    print(\"Merging outputs...\")\n",
    "    merged_outputs = []\n",
    "    for output_batch in outputs:\n",
    "        for i, output_layer in enumerate(output_batch):\n",
    "            if len(merged_outputs) <= i:\n",
    "                merged_outputs.append([])\n",
    "            merged_outputs[i].extend(output_layer)\n",
    "\n",
    "    for i, layer_output in enumerate(merged_outputs):\n",
    "        merged_outputs[i] = np.array(merged_outputs[i])\n",
    "    outputs = merged_outputs\n",
    "    print(\"Outputs merged.\")\n",
    "    # Aktiveringer fra res-block i\n",
    "    concept_presence_per_layer = []\n",
    "    for (i, output) in enumerate(outputs):\n",
    "        points = output.reshape((output.shape[0], np.prod(output.shape[1:])))\n",
    "        print(points.shape)\n",
    "        # Så man har (n, k) sampler der n er antallet posisjoner, og k er det totale antallet aktiveringsverdier i lag i.\n",
    "        print(\"Performing regression for layer {}\".format(i))\n",
    "        # points = np.concatenate([points, actual_outputs], axis=1)\n",
    "        score = perform_regression(\n",
    "            points[:POSITIONS_TO_CONSIDER], \n",
    "            all_labels[:POSITIONS_TO_CONSIDER], \n",
    "            points[POSITIONS_TO_CONSIDER:], \n",
    "            all_labels[POSITIONS_TO_CONSIDER:], \n",
    "            True\n",
    "        )\n",
    "        concept_presence_per_layer.append(score)\n",
    "\n",
    "        print(\"The presence of {} in resblock {} is {}\".format(concept_name, i, score))\n",
    "    concept_presences[concept_name] = concept_presence_per_layer\n",
    "    import os\n",
    "    import string\n",
    "    from random import choices\n",
    "    import json\n",
    "\n",
    "\n",
    "\n",
    "    os.makedirs(\"concept_presences\", exist_ok=True)\n",
    "    os.makedirs(\"concept_presences/{}\".format(full_name), exist_ok=True)\n",
    "    os.makedirs(\"concept_presences/{}/{}\".format(full_name, model_name), exist_ok=True)\n",
    "    os.makedirs(\"concept_presences/{}/{}/{}\".format(full_name, model_name, concept_name), exist_ok=True)\n",
    "    os.makedirs(\"concept_presences/{}/{}/{}/{}\".format(full_name, model_name, concept_name, epoch_to_look_at), exist_ok=True)\n",
    "\n",
    "    random_suffix = ''.join(choices(string.ascii_uppercase + string.digits, k=10))\n",
    "\n",
    "    with open(\"concept_presences/{}/{}/{}/{}/{}.json\".format(full_name, model_name, concept_name, epoch_to_look_at, random_suffix), \"w\") as f:\n",
    "        json.dump(concept_presences[concept_name], f)\n"
   ]
  }
 ],
 "metadata": {
  "kernelspec": {
   "display_name": "Python 3.8.6 64-bit",
   "language": "python",
   "name": "python3"
  },
  "language_info": {
   "codemirror_mode": {
    "name": "ipython",
    "version": 3
   },
   "file_extension": ".py",
   "mimetype": "text/x-python",
   "name": "python",
   "nbconvert_exporter": "python",
   "pygments_lexer": "ipython3",
   "version": "3.8.6"
  },
  "orig_nbformat": 4,
  "vscode": {
   "interpreter": {
    "hash": "01733018d8c9657de1e1b8d6ed5f204813fbdb61ffcb372a101bd8f1b1d046b6"
   }
  }
 },
 "nbformat": 4,
 "nbformat_minor": 2
}
